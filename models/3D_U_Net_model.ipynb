{
  "nbformat": 4,
  "nbformat_minor": 0,
  "metadata": {
    "colab": {
      "provenance": []
    },
    "kernelspec": {
      "name": "python3",
      "display_name": "Python 3"
    },
    "language_info": {
      "name": "python"
    }
  },
  "cells": [
    {
      "cell_type": "code",
      "execution_count": null,
      "metadata": {
        "id": "0JFHb6fGG9Vx"
      },
      "outputs": [],
      "source": []
    },
    {
      "cell_type": "markdown",
      "metadata": {
        "id": "rH2_eoLdc3x5"
      },
      "source": [
        "## 3D-UNET From Scratch"
      ]
    },
    {
      "cell_type": "code",
      "metadata": {
        "id": "xKqfnjhQeknT"
      },
      "source": [
        "from keras.layers import Input, BatchNormalization, Activation, Dense, Dropout,Maximum"
      ],
      "execution_count": null,
      "outputs": []
    },
    {
      "cell_type": "code",
      "metadata": {
        "id": "Hr_UC-9ad3Bc"
      },
      "source": [
        "def conv_block(input_mat,num_filters,kernel_size,batch_norm):\n",
        "  X = Conv3D(num_filters,kernel_size=(kernel_size,kernel_size,kernel_size),strides=(1,1,1),padding='same')(input_mat)\n",
        "  X = BatchNormalization()(X)\n",
        "  X = Activation('leaky_relu')(X)\n",
        "\n",
        "  X = Conv3D(num_filters,kernel_size=(kernel_size,kernel_size,kernel_size),strides=(1,1,1),padding='same')(X)\n",
        "  X = BatchNormalization()(X)\n",
        "  X = Activation('leaky_relu')(X)\n",
        "\n",
        "  return X"
      ],
      "execution_count": null,
      "outputs": []
    },
    {
      "cell_type": "code",
      "metadata": {
        "id": "-jOjthdVd-5v"
      },
      "source": [
        "def Unet_3d(input_img, n_filters = 8, dropout = 0.2, batch_norm = True):\n",
        "\n",
        "  c1 = conv_block(input_img,n_filters,3,batch_norm)\n",
        "  p1 = MaxPooling3D(pool_size=(2, 2, 2), strides=2)(c1)\n",
        "  p1 = Dropout(dropout)(p1)\n",
        "\n",
        "  c2 = conv_block(p1,n_filters*2,3,batch_norm);\n",
        "  p2 = MaxPooling3D(pool_size=(2,2,2) ,strides=2)(c2)\n",
        "  p2 = Dropout(dropout)(p2)\n",
        "\n",
        "  c3 = conv_block(p2,n_filters*4,3,batch_norm);\n",
        "  p3 = MaxPooling3D(pool_size=(2,2,2) ,strides=2)(c3)\n",
        "  p3 = Dropout(dropout)(p3)\n",
        "\n",
        "  c4 = conv_block(p3,n_filters*8,3,batch_norm);\n",
        "  p4 = MaxPooling3D(pool_size=(2,2,2) ,strides=2)(c4)\n",
        "  p4 = Dropout(dropout)(p4)\n",
        "\n",
        "  c5 = conv_block(p4,n_filters*16,3,batch_norm);\n",
        "\n",
        "  u6 = Conv3DTranspose(n_filters*8, (3,3,3), strides=(2, 2, 2), padding='same')(c5);\n",
        "  u6 = concatenate([u6,c4]);\n",
        "  c6 = conv_block(u6,n_filters*8,3,batch_norm)\n",
        "  c6 = Dropout(dropout)(c6)\n",
        "\n",
        "  u7 = Conv3DTranspose(n_filters*4,(3,3,3),strides = (2,2,2) , padding= 'same')(c6);\n",
        "  u7 = concatenate([u7,c3]);\n",
        "  c7 = conv_block(u7,n_filters*4,3,batch_norm)\n",
        "  c7 = Dropout(dropout)(c7)\n",
        "\n",
        "  u8 = Conv3DTranspose(n_filters*2,(3,3,3),strides = (2,2,2) , padding='same')(c7);\n",
        "  u8 = concatenate([u8,c2]);\n",
        "  c8 = conv_block(u8,n_filters*2,3,batch_norm)\n",
        "  c8 = Dropout(dropout)(c8)\n",
        "\n",
        "  u9 = Conv3DTranspose(n_filters,(3,3,3),strides = (2,2,2) , padding='same')(c8);\n",
        "  u9 = concatenate([u9,c1]);\n",
        "  c9 = conv_block(u9,n_filters,3,batch_norm)\n",
        "\n",
        "  outputs = Conv3D(4, (1, 1,1), activation='softmax')(c9)\n",
        "\n",
        "  model = Model(inputs=input_img, outputs=outputs)\n",
        "\n",
        "  return model"
      ],
      "execution_count": null,
      "outputs": []
    },
    {
      "cell_type": "code",
      "metadata": {
        "colab": {
          "base_uri": "https://localhost:8080/"
        },
        "id": "f7A4OGAiiSgE",
        "outputId": "b8b0f4c3-3b51-46ba-a309-9d3c85bc0dae"
      },
      "source": [
        "#Test if everything is working ok.\n",
        "input_img = Input((128,128,128,4))\n",
        "model = Unet_3d(input_img,8,0.1,True)\n",
        "print(model.input_shape)\n",
        "print(model.output_shape)"
      ],
      "execution_count": null,
      "outputs": [
        {
          "output_type": "stream",
          "name": "stdout",
          "text": [
            "(None, 128, 128, 128, 4)\n",
            "(None, 128, 128, 128, 4)\n"
          ]
        }
      ]
    }
  ]
}